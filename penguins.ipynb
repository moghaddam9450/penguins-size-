{
 "cells": [
  {
   "cell_type": "markdown",
   "metadata": {},
   "source": [
    "IN THE NAME OF GOD"
   ]
  },
  {
   "cell_type": "markdown",
   "metadata": {},
   "source": [
    " <font color = '#0ccc43'> **Importing Libraries**</font>"
   ]
  },
  {
   "cell_type": "code",
   "execution_count": 14,
   "metadata": {},
   "outputs": [],
   "source": [
    "import numpy as np\n",
    "import pandas as pd \n",
    "import matplotlib.pyplot as plt"
   ]
  },
  {
   "cell_type": "markdown",
   "metadata": {},
   "source": [
    " <font color = '#0ccc43'> **Read Dataset**</font>"
   ]
  },
  {
   "cell_type": "code",
   "execution_count": 15,
   "metadata": {},
   "outputs": [
    {
     "data": {
      "text/html": [
       "<div>\n",
       "<style scoped>\n",
       "    .dataframe tbody tr th:only-of-type {\n",
       "        vertical-align: middle;\n",
       "    }\n",
       "\n",
       "    .dataframe tbody tr th {\n",
       "        vertical-align: top;\n",
       "    }\n",
       "\n",
       "    .dataframe thead th {\n",
       "        text-align: right;\n",
       "    }\n",
       "</style>\n",
       "<table border=\"1\" class=\"dataframe\">\n",
       "  <thead>\n",
       "    <tr style=\"text-align: right;\">\n",
       "      <th></th>\n",
       "      <th>species</th>\n",
       "      <th>island</th>\n",
       "      <th>culmen_length_mm</th>\n",
       "      <th>culmen_depth_mm</th>\n",
       "      <th>flipper_length_mm</th>\n",
       "      <th>body_mass_g</th>\n",
       "      <th>sex</th>\n",
       "    </tr>\n",
       "  </thead>\n",
       "  <tbody>\n",
       "    <tr>\n",
       "      <th>0</th>\n",
       "      <td>Adelie</td>\n",
       "      <td>Torgersen</td>\n",
       "      <td>39.1</td>\n",
       "      <td>18.7</td>\n",
       "      <td>181.0</td>\n",
       "      <td>3750.0</td>\n",
       "      <td>MALE</td>\n",
       "    </tr>\n",
       "    <tr>\n",
       "      <th>1</th>\n",
       "      <td>Adelie</td>\n",
       "      <td>Torgersen</td>\n",
       "      <td>39.5</td>\n",
       "      <td>17.4</td>\n",
       "      <td>186.0</td>\n",
       "      <td>3800.0</td>\n",
       "      <td>FEMALE</td>\n",
       "    </tr>\n",
       "    <tr>\n",
       "      <th>2</th>\n",
       "      <td>Adelie</td>\n",
       "      <td>Torgersen</td>\n",
       "      <td>40.3</td>\n",
       "      <td>18.0</td>\n",
       "      <td>195.0</td>\n",
       "      <td>3250.0</td>\n",
       "      <td>FEMALE</td>\n",
       "    </tr>\n",
       "    <tr>\n",
       "      <th>3</th>\n",
       "      <td>Adelie</td>\n",
       "      <td>Torgersen</td>\n",
       "      <td>NaN</td>\n",
       "      <td>NaN</td>\n",
       "      <td>NaN</td>\n",
       "      <td>NaN</td>\n",
       "      <td>NaN</td>\n",
       "    </tr>\n",
       "    <tr>\n",
       "      <th>4</th>\n",
       "      <td>Adelie</td>\n",
       "      <td>Torgersen</td>\n",
       "      <td>36.7</td>\n",
       "      <td>19.3</td>\n",
       "      <td>193.0</td>\n",
       "      <td>3450.0</td>\n",
       "      <td>FEMALE</td>\n",
       "    </tr>\n",
       "  </tbody>\n",
       "</table>\n",
       "</div>"
      ],
      "text/plain": [
       "  species     island  culmen_length_mm  culmen_depth_mm  flipper_length_mm  \\\n",
       "0  Adelie  Torgersen              39.1             18.7              181.0   \n",
       "1  Adelie  Torgersen              39.5             17.4              186.0   \n",
       "2  Adelie  Torgersen              40.3             18.0              195.0   \n",
       "3  Adelie  Torgersen               NaN              NaN                NaN   \n",
       "4  Adelie  Torgersen              36.7             19.3              193.0   \n",
       "\n",
       "   body_mass_g     sex  \n",
       "0       3750.0    MALE  \n",
       "1       3800.0  FEMALE  \n",
       "2       3250.0  FEMALE  \n",
       "3          NaN     NaN  \n",
       "4       3450.0  FEMALE  "
      ]
     },
     "execution_count": 15,
     "metadata": {},
     "output_type": "execute_result"
    }
   ],
   "source": [
    "data = pd.read_csv('penguins_size.csv')\n",
    "data.head()\n"
   ]
  },
  {
   "cell_type": "markdown",
   "metadata": {},
   "source": [
    " <font color = '#0ccc43'> **Find Out Shape Of Data**</font>"
   ]
  },
  {
   "cell_type": "code",
   "execution_count": 16,
   "metadata": {},
   "outputs": [
    {
     "name": "stdout",
     "output_type": "stream",
     "text": [
      "shape of data: (344, 7)\n"
     ]
    }
   ],
   "source": [
    "print(\"shape of data:\" ,data.shape)"
   ]
  },
  {
   "cell_type": "markdown",
   "metadata": {},
   "source": [
    "The expression obtained above means that this collection has 344 rows and 7 columns. In other words, there are 344 observations, and each observation has 7 other characteristics."
   ]
  },
  {
   "cell_type": "markdown",
   "metadata": {},
   "source": [
    " <font color = '#0ccc43'> **Dataset Info**</font>"
   ]
  },
  {
   "cell_type": "code",
   "execution_count": 17,
   "metadata": {},
   "outputs": [
    {
     "name": "stdout",
     "output_type": "stream",
     "text": [
      "<class 'pandas.core.frame.DataFrame'>\n",
      "RangeIndex: 344 entries, 0 to 343\n",
      "Data columns (total 7 columns):\n",
      " #   Column             Non-Null Count  Dtype  \n",
      "---  ------             --------------  -----  \n",
      " 0   species            344 non-null    object \n",
      " 1   island             344 non-null    object \n",
      " 2   culmen_length_mm   342 non-null    float64\n",
      " 3   culmen_depth_mm    342 non-null    float64\n",
      " 4   flipper_length_mm  342 non-null    float64\n",
      " 5   body_mass_g        342 non-null    float64\n",
      " 6   sex                334 non-null    object \n",
      "dtypes: float64(4), object(3)\n",
      "memory usage: 18.9+ KB\n"
     ]
    }
   ],
   "source": [
    "data.info()"
   ]
  },
  {
   "cell_type": "markdown",
   "metadata": {},
   "source": [
    "We can observe in the above information that each float category column is missing 2 null observations while the sex column is missing 10 of them."
   ]
  },
  {
   "cell_type": "markdown",
   "metadata": {},
   "source": [
    " <font color = '#0ccc43'> **Unique Species**</font>"
   ]
  },
  {
   "cell_type": "code",
   "execution_count": 18,
   "metadata": {},
   "outputs": [
    {
     "name": "stdout",
     "output_type": "stream",
     "text": [
      "Unique species: ['Adelie' 'Chinstrap' 'Gentoo']\n"
     ]
    }
   ],
   "source": [
    "print(\"Unique species:\" , data['species'].unique())"
   ]
  },
  {
   "cell_type": "markdown",
   "metadata": {},
   "source": [
    "We can understand from the above information that each penguin is from one of the three following species : Adelie , Chinstrap , Gentoo ."
   ]
  },
  {
   "cell_type": "markdown",
   "metadata": {},
   "source": [
    " <font color = '#0ccc43'> **Find NAN Values Per Columns**</font>"
   ]
  },
  {
   "cell_type": "code",
   "execution_count": 19,
   "metadata": {},
   "outputs": [
    {
     "name": "stdout",
     "output_type": "stream",
     "text": [
      "NAN values per column: species               0\n",
      "island                0\n",
      "culmen_length_mm      2\n",
      "culmen_depth_mm       2\n",
      "flipper_length_mm     2\n",
      "body_mass_g           2\n",
      "sex                  10\n",
      "dtype: int64\n"
     ]
    }
   ],
   "source": [
    "df = data.isnull().sum()\n",
    "print(\"NAN values per column:\" , df)"
   ]
  },
  {
   "cell_type": "markdown",
   "metadata": {},
   "source": [
    "In that code we can see all  the null values.These are  no good to any data and It is one of the most important parts of data preprocessing to be rid of them or have them treated accordingly."
   ]
  },
  {
   "cell_type": "markdown",
   "metadata": {},
   "source": [
    " <font color = '#0ccc43'> **Culmen Depth In Each Island**</font>"
   ]
  },
  {
   "cell_type": "code",
   "execution_count": 20,
   "metadata": {},
   "outputs": [
    {
     "name": "stdout",
     "output_type": "stream",
     "text": [
      "Culmen depth in each island: island\n",
      "Biscoe       15.874850\n",
      "Dream        18.344355\n",
      "Torgersen    18.429412\n",
      "Name: culmen_depth_mm, dtype: float64\n"
     ]
    }
   ],
   "source": [
    "culmen_depth_island = data.groupby('island')['culmen_depth_mm'].mean()\n",
    "print(\"Culmen depth in each island:\" ,culmen_depth_island  )"
   ]
  },
  {
   "cell_type": "markdown",
   "metadata": {},
   "source": [
    "This result shows the average depth of culman in millimeters for each island where penguins have been observed.This information provides insight into the variation in culmen depth among penguins on different islands, which can be useful for understanding the characteristics of penguin populations in those locations."
   ]
  },
  {
   "cell_type": "markdown",
   "metadata": {},
   "source": [
    " <font color = '#0ccc43'> **Body Mass In Each Sex**</font>"
   ]
  },
  {
   "cell_type": "code",
   "execution_count": 21,
   "metadata": {},
   "outputs": [
    {
     "name": "stdout",
     "output_type": "stream",
     "text": [
      "Body mass in each sex: sex\n",
      ".         4875.000000\n",
      "FEMALE    3862.272727\n",
      "MALE      4545.684524\n",
      "Name: body_mass_g, dtype: float64\n"
     ]
    }
   ],
   "source": [
    "body_mass_by_sex = data.groupby('sex')['body_mass_g'].mean()\n",
    "print(\"Body mass in each sex:\" ,body_mass_by_sex)"
   ]
  },
  {
   "cell_type": "markdown",
   "metadata": {},
   "source": [
    "This output  is a summary of the body mass of penguins based on their sex in the dataset. Here's a breakdown of the information:\n",
    "\n",
    "- FEMALE: The average body mass of female penguins is approximately 3862.27 grams.\n",
    "- MALE: The average body mass of male penguins is approximately 4545.68 grams.\n",
    "\n",
    " \"4875.00\" is not labeled, but it could possibly represent the overall average body mass across both sexes.\n",
    "\n",
    "This information provides a clear comparison of the average body mass between male and female penguins."
   ]
  },
  {
   "cell_type": "markdown",
   "metadata": {},
   "source": [
    " <font color = '#0ccc43'> **Species In Each Island**</font>"
   ]
  },
  {
   "cell_type": "code",
   "execution_count": 22,
   "metadata": {},
   "outputs": [
    {
     "name": "stdout",
     "output_type": "stream",
     "text": [
      "Species in each island: island\n",
      "Biscoe          [Adelie, Gentoo]\n",
      "Dream        [Adelie, Chinstrap]\n",
      "Torgersen               [Adelie]\n",
      "Name: species, dtype: object\n"
     ]
    }
   ],
   "source": [
    "species_by_island = data.groupby('island')['species'].unique()\n",
    "print(\"Species in each island:\" , species_by_island)"
   ]
  },
  {
   "cell_type": "markdown",
   "metadata": {},
   "source": [
    "This output  shows the distribution of penguin species across different islands. Here's a breakdown of the information:\n",
    "\n",
    "- Biscoe island is home to Adelie and Gentoo penguin species.\n",
    "- Dream island is home to Adelie and Chinstrap penguin species.\n",
    "- Torgersen island is home to Adelie penguin species.\n",
    "\n",
    "This information provides a clear overview of the species distribution across different islands."
   ]
  },
  {
   "cell_type": "markdown",
   "metadata": {},
   "source": [
    " <font color = '#0ccc43'> **Share Of Female Penguins In Each Species**</font>"
   ]
  },
  {
   "cell_type": "code",
   "execution_count": 23,
   "metadata": {},
   "outputs": [
    {
     "name": "stdout",
     "output_type": "stream",
     "text": [
      "Share of female penguins in each species:\n",
      "species\n",
      "Adelie      NaN\n",
      "Chinstrap   NaN\n",
      "Gentoo      NaN\n",
      "Name: count, dtype: float64\n"
     ]
    }
   ],
   "source": [
    "share_female_by_species = data[data['sex'] == 'F']['species'].value_counts() / data['species'].value_counts()\n",
    "print(\"Share of female penguins in each species:\")\n",
    "print(share_female_by_species)\n"
   ]
  },
  {
   "cell_type": "markdown",
   "metadata": {},
   "source": [
    "This output  indicates that there is no available data for the share of female penguins in each species. The \"NaN\" values suggest that the information is missing or not present in the dataset."
   ]
  },
  {
   "cell_type": "markdown",
   "metadata": {},
   "source": [
    " <font color = '#0ccc43'> **Flipper Length Comparisons Between Species(min,max,mean)**</font>"
   ]
  },
  {
   "cell_type": "code",
   "execution_count": 24,
   "metadata": {},
   "outputs": [
    {
     "name": "stdout",
     "output_type": "stream",
     "text": [
      "Flipper length comparisons between species:              min    max        mean\n",
      "species                            \n",
      "Adelie     172.0  210.0  189.953642\n",
      "Chinstrap  178.0  212.0  195.823529\n",
      "Gentoo     203.0  231.0  217.186992\n"
     ]
    }
   ],
   "source": [
    "flipper_length_comparisons = data.groupby('species')['flipper_length_mm'].agg(['min','max','mean'])\n",
    "print(\"Flipper length comparisons between species:\" , flipper_length_comparisons)"
   ]
  },
  {
   "cell_type": "markdown",
   "metadata": {},
   "source": [
    "- Adelie penguins have a minimum flipper length of 172.0, a maximum of 210.0, and a mean of 189.95.\n",
    "- Chinstrap penguins have a minimum flipper length of 178.0, a maximum of 212.0, and a mean of 195.82.\n",
    "- Gentoo penguins have a minimum flipper length of 203.0, a maximum of 231.0, and a mean of 217.19.\n",
    "\n",
    "This data shows the range and average flipper lengths for each penguin species, providing insight into the differences between them."
   ]
  },
  {
   "cell_type": "markdown",
   "metadata": {},
   "source": [
    " <font color = '#0ccc43'> **Finding the relationship between body mass and beak depth of penguins**</font>"
   ]
  },
  {
   "cell_type": "code",
   "execution_count": 30,
   "metadata": {},
   "outputs": [
    {
     "data": {
      "text/plain": [
       "Text(0.5, 1.0, 'correlation_pearson = -0.4730')"
      ]
     },
     "execution_count": 30,
     "metadata": {},
     "output_type": "execute_result"
    },
    {
     "data": {
      "image/png": "[encoded data removed]",
      "text/plain": [
       "<Figure size 640x480 with 1 Axes>"
      ]
     },
     "metadata": {},
     "output_type": "display_data"
    }
   ],
   "source": [
    "data = data.dropna()\n",
    "plt.figure()\n",
    "plt.scatter(data['culmen_depth_mm'] , data['body_mass_g'] )\n",
    "plt.xlabel('culmen_depth(mm)')\n",
    "plt.ylabel('body_mass(g)')\n",
    "correlation = np.corrcoef(data['culmen_depth_mm'],data['body_mass_g'])[0,1]\n",
    "plt.title('relationship between body mass & culmen depth of penguins')\n",
    "plt.title(f'correlation_pearson = {correlation: .4f}')"
   ]
  },
  {
   "cell_type": "markdown",
   "metadata": {},
   "source": [
    "Here we wanted to investigate the relationship between these two variables. For this purpose, we drew a graph using these two variables and calculated their correlation coefficient. As we know, the correlation coefficient is between -1 and 1, and the more it moves to the negative side, the more independent the variables are. It has no effect and as a result two variables are independent of each other as much as -0.47."
   ]
  },
  {
   "cell_type": "markdown",
   "metadata": {},
   "source": [
    " <font color = '#0ccc43'> **Average culmen length for each species**</font>"
   ]
  },
  {
   "cell_type": "code",
   "execution_count": 31,
   "metadata": {},
   "outputs": [
    {
     "name": "stdout",
     "output_type": "stream",
     "text": [
      "Average culmen length for each species: species\n",
      "Adelie       18.347260\n",
      "Chinstrap    18.420588\n",
      "Gentoo       15.002500\n",
      "Name: culmen_depth_mm, dtype: float64\n"
     ]
    }
   ],
   "source": [
    "\n",
    "average_culmen_length_by_species = data.groupby('species')['culmen_depth_mm'].mean()\n",
    "print(\"Average culmen length for each species:\",average_culmen_length_by_species )\n",
    "\n"
   ]
  },
  {
   "cell_type": "markdown",
   "metadata": {},
   "source": [
    "The average culmen length for each penguin species is calculated. This provides the mean culmen length for each species, giving insight into the typical culmen length for different species of penguins."
   ]
  },
  {
   "cell_type": "markdown",
   "metadata": {},
   "source": [
    " <font color = '#0ccc43'> **Range of flipper length for each species**</font>"
   ]
  },
  {
   "cell_type": "code",
   "execution_count": 32,
   "metadata": {},
   "outputs": [
    {
     "name": "stdout",
     "output_type": "stream",
     "text": [
      "Range of flipper length for each species: species\n",
      "Adelie       38.0\n",
      "Chinstrap    34.0\n",
      "Gentoo       28.0\n",
      "Name: flipper_length_mm, dtype: float64\n"
     ]
    }
   ],
   "source": [
    "\n",
    "flipper_length_range_by_species = data.groupby('species')['flipper_length_mm'].agg(lambda x: x.max() - x.min())\n",
    "print(\"Range of flipper length for each species:\" ,flipper_length_range_by_species )\n",
    "\n"
   ]
  },
  {
   "cell_type": "markdown",
   "metadata": {},
   "source": [
    "The range of flipper length for each penguin species is determined. This provides the difference between the maximum and minimum flipper length observed within each species, offering insights into the variability of flipper length within different penguin species."
   ]
  },
  {
   "cell_type": "markdown",
   "metadata": {},
   "source": [
    "From the given information, we can observe that Adelie penguins have the largest range of flipper lengths (38.0 mm), indicating that there is a wider variation in flipper length within this species. On the other hand, Chinstrap penguins have a slightly smaller range (34.0 mm), suggesting a slightly narrower overall variability in flipper length. Gentoo penguins exhibit the smallest range (28.0 mm), indicating the least variability in flipper length within this species."
   ]
  }
 ],
 "metadata": {
  "kernelspec": {
   "display_name": "Python 3",
   "language": "python",
   "name": "python3"
  },
  "language_info": {
   "codemirror_mode": {
    "name": "ipython",
    "version": 3
   },
   "file_extension": ".py",
   "mimetype": "text/x-python",
   "name": "python",
   "nbconvert_exporter": "python",
   "pygments_lexer": "ipython3",
   "version": "3.11.9"
  }
 },
 "nbformat": 4,
 "nbformat_minor": 2
}
